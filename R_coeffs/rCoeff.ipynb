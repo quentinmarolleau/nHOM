{
 "cells": [
  {
   "cell_type": "code",
   "execution_count": 1,
   "metadata": {},
   "outputs": [],
   "source": [
    "import numpy as np\n",
    "import scipy.special\n",
    "from multiprocessing import Pool"
   ]
  },
  {
   "cell_type": "code",
   "execution_count": 5,
   "metadata": {},
   "outputs": [],
   "source": [
    "def minimalR(n1: int, n2: int, N1: int, tau: float) -> float:\n",
    "    \"\"\"Returns log[R_{N1,N2}^{n1,n2}] assuming the following conditions to be verified:\n",
    "        - n1 + n2 = N1 + N2 -> fixes the value of N2\n",
    "        - n1, n2 <= N1 -> other cases can be computed thanks to symmetries relations\n",
    "\n",
    "    for more info:\n",
    "    [Campos, Saleh, and Teich, Physical Review A 40, no. 3 (1 August 1989): 1371–84, https://doi.org/10/bjcf48.]\n",
    "\n",
    "\n",
    "    Parameters\n",
    "    ----------\n",
    "    n1 : int\n",
    "        first input channel\n",
    "    n2 : int\n",
    "        second input channel\n",
    "    N1 : int\n",
    "        first output channel\n",
    "\n",
    "    Returns\n",
    "    -------\n",
    "    float\n",
    "        Output photon-number probability amplitude\n",
    "    \"\"\"\n",
    "    N2 = n1 + n2 - N1\n",
    "    \n",
    "    # computation of the combinatory prefactor\n",
    "    # computation in log for precision of very large numbers\n",
    "    log_combi_prefector = 0.5 * (\n",
    "            (N1-n2) * np.log(tau) \n",
    "            + (N1-n1) * np.log(1-tau) \n",
    "            + scipy.special.loggamma(N1+1) \n",
    "            + scipy.special.loggamma(N2+1) \n",
    "            - scipy.special.loggamma(n1+1) \n",
    "            - scipy.special.loggamma(n2+1)\n",
    "        )\n",
    "        \n",
    "    return np.exp(log_combi_prefector) * scipy.special.jacobi(N2,N1-n1,N1-n2)(2*tau-1)"
   ]
  },
  {
   "cell_type": "code",
   "execution_count": 15,
   "metadata": {},
   "outputs": [
    {
     "data": {
      "text/plain": [
       "-0.3535533905932738"
      ]
     },
     "execution_count": 15,
     "metadata": {},
     "output_type": "execute_result"
    }
   ],
   "source": [
    "minimalR(2,1,2,0.5)"
   ]
  },
  {
   "cell_type": "code",
   "execution_count": 8,
   "metadata": {},
   "outputs": [
    {
     "name": "stderr",
     "output_type": "stream",
     "text": [
      "/tmp/ipykernel_13712/711853124.py:1: VisibleDeprecationWarning: Creating an ndarray from ragged nested sequences (which is a list-or-tuple of lists-or-tuples-or ndarrays with different lengths or shapes) is deprecated. If you meant to do this, you must specify 'dtype=object' when creating the ndarray.\n",
      "  test = np.array([(0.,1),(1,2,3)])\n"
     ]
    }
   ],
   "source": [
    "test = np.array([(0.,1),(1,2,3)])"
   ]
  },
  {
   "cell_type": "code",
   "execution_count": 9,
   "metadata": {},
   "outputs": [
    {
     "data": {
      "text/plain": [
       "array([(0.0, 1), (1, 2, 3)], dtype=object)"
      ]
     },
     "execution_count": 9,
     "metadata": {},
     "output_type": "execute_result"
    }
   ],
   "source": [
    "test"
   ]
  },
  {
   "cell_type": "code",
   "execution_count": 14,
   "metadata": {},
   "outputs": [],
   "source": [
    "dt = np.empty((3,3),dtype=object)"
   ]
  },
  {
   "cell_type": "code",
   "execution_count": 16,
   "metadata": {},
   "outputs": [],
   "source": [
    "dt[(0,1)] = (1,2,3)"
   ]
  },
  {
   "cell_type": "code",
   "execution_count": 17,
   "metadata": {},
   "outputs": [
    {
     "data": {
      "text/plain": [
       "array([[None, (1, 2, 3), None],\n",
       "       [None, None, None],\n",
       "       [None, None, None]], dtype=object)"
      ]
     },
     "execution_count": 17,
     "metadata": {},
     "output_type": "execute_result"
    }
   ],
   "source": [
    "dt"
   ]
  },
  {
   "cell_type": "code",
   "execution_count": 21,
   "metadata": {},
   "outputs": [],
   "source": [
    "l = tuple(n**2 for n in range(10))"
   ]
  },
  {
   "cell_type": "code",
   "execution_count": 22,
   "metadata": {},
   "outputs": [
    {
     "data": {
      "text/plain": [
       "(0, 1, 4, 9, 16, 25, 36, 49, 64, 81)"
      ]
     },
     "execution_count": 22,
     "metadata": {},
     "output_type": "execute_result"
    }
   ],
   "source": [
    "l"
   ]
  },
  {
   "cell_type": "code",
   "execution_count": 23,
   "metadata": {},
   "outputs": [
    {
     "name": "stdout",
     "output_type": "stream",
     "text": [
      "0 0\n",
      "1 1\n",
      "2 4\n",
      "3 9\n",
      "4 16\n",
      "5 25\n",
      "6 36\n",
      "7 49\n",
      "8 64\n",
      "9 81\n"
     ]
    }
   ],
   "source": [
    "for idx, val in enumerate(l):\n",
    "    print(idx, val)"
   ]
  },
  {
   "cell_type": "code",
   "execution_count": 1,
   "metadata": {},
   "outputs": [
    {
     "name": "stdout",
     "output_type": "stream",
     "text": [
      "2\n",
      "3\n",
      "4\n",
      "5\n",
      "6\n",
      "7\n",
      "8\n",
      "9\n"
     ]
    }
   ],
   "source": [
    "for i in range(2,10):\n",
    "    print(i)"
   ]
  },
  {
   "cell_type": "code",
   "execution_count": null,
   "metadata": {},
   "outputs": [],
   "source": []
  }
 ],
 "metadata": {
  "interpreter": {
   "hash": "289bdc3d3cea1fb8cffe7bd92c8245fd90bdef85e96193d853894d4ed4b37c5b"
  },
  "kernelspec": {
   "display_name": "Python 3.10.1 64-bit ('nHOM': virtualenv)",
   "language": "python",
   "name": "python3"
  },
  "language_info": {
   "codemirror_mode": {
    "name": "ipython",
    "version": 3
   },
   "file_extension": ".py",
   "mimetype": "text/x-python",
   "name": "python",
   "nbconvert_exporter": "python",
   "pygments_lexer": "ipython3",
   "version": "3.10.1"
  },
  "orig_nbformat": 4
 },
 "nbformat": 4,
 "nbformat_minor": 2
}
